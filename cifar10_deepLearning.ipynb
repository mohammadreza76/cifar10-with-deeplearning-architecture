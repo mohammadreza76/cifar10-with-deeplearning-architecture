{
  "nbformat": 4,
  "nbformat_minor": 0,
  "metadata": {
    "colab": {
      "name": "cifar10_deepLearning.ipynb",
      "provenance": [],
      "collapsed_sections": [],
      "authorship_tag": "ABX9TyMQuFc1T44sznXtqbwnT2+X",
      "include_colab_link": true
    },
    "kernelspec": {
      "name": "python3",
      "display_name": "Python 3"
    },
    "accelerator": "GPU"
  },
  "cells": [
    {
      "cell_type": "markdown",
      "metadata": {
        "id": "view-in-github",
        "colab_type": "text"
      },
      "source": [
        "<a href=\"https://colab.research.google.com/github/mohammadreza76/cifar10-with-deeplearning-architecture/blob/master/cifar10_deepLearning.ipynb\" target=\"_parent\"><img src=\"https://colab.research.google.com/assets/colab-badge.svg\" alt=\"Open In Colab\"/></a>"
      ]
    },
    {
      "cell_type": "markdown",
      "metadata": {
        "id": "Aw5NopJT9J60",
        "colab_type": "text"
      },
      "source": [
        "## Import libraries and dataset"
      ]
    },
    {
      "cell_type": "code",
      "metadata": {
        "id": "hENt-Cmn71VZ",
        "colab_type": "code",
        "colab": {}
      },
      "source": [
        "from keras.datasets import cifar10\n",
        "from keras.layers import Dense,Dropout,Flatten,Conv2D,MaxPooling2D\n",
        "from keras.utils import np_utils\n",
        "from keras.models import Sequential\n",
        "from matplotlib import pyplot\n",
        "from keras.regularizers import l2\n",
        "from keras.applications.vgg16 import VGG16\n",
        "from keras.models import Model\n",
        "from keras.applications.vgg16 import preprocess_input\n",
        "from keras.applications.vgg16 import decode_predictions\n",
        "import tensorflow as tf"
      ],
      "execution_count": 1,
      "outputs": []
    },
    {
      "cell_type": "markdown",
      "metadata": {
        "id": "viwFcp8R9Yw6",
        "colab_type": "text"
      },
      "source": [
        "## Load data"
      ]
    },
    {
      "cell_type": "code",
      "metadata": {
        "id": "iG4NUq1D9Qcw",
        "colab_type": "code",
        "colab": {
          "base_uri": "https://localhost:8080/",
          "height": 54
        },
        "outputId": "a18d9469-c376-4999-87b8-eb5ee5fc1f8e"
      },
      "source": [
        "(X_train,y_train),(X_test,y_test) = cifar10.load_data()"
      ],
      "execution_count": 2,
      "outputs": [
        {
          "output_type": "stream",
          "text": [
            "Downloading data from https://www.cs.toronto.edu/~kriz/cifar-10-python.tar.gz\n",
            "170500096/170498071 [==============================] - 3s 0us/step\n"
          ],
          "name": "stdout"
        }
      ]
    },
    {
      "cell_type": "code",
      "metadata": {
        "id": "WAP1dLr797Ag",
        "colab_type": "code",
        "colab": {
          "base_uri": "https://localhost:8080/",
          "height": 36
        },
        "outputId": "0e369c39-5a1f-4c57-9666-c4869cf52dba"
      },
      "source": [
        "X_train.shape"
      ],
      "execution_count": null,
      "outputs": [
        {
          "output_type": "execute_result",
          "data": {
            "text/plain": [
              "(50000, 32, 32, 3)"
            ]
          },
          "metadata": {
            "tags": []
          },
          "execution_count": 31
        }
      ]
    },
    {
      "cell_type": "markdown",
      "metadata": {
        "id": "zDcHJHcZ-PSy",
        "colab_type": "text"
      },
      "source": [
        "## preparing data"
      ]
    },
    {
      "cell_type": "code",
      "metadata": {
        "id": "tzGujzBO-Cd_",
        "colab_type": "code",
        "colab": {}
      },
      "source": [
        "\n",
        "\n",
        "X_train = X_train.astype('float32')\n",
        "X_test = X_test.astype('float32')\n",
        "X_train_flatten = X_train.reshape(X_train.shape[0],-1)\n",
        "X_test_flatten = X_test.reshape(X_test.shape[0],-1)\n",
        "\n",
        "# Standardize data to have feature values between 0 and 1.\n",
        "X_train = X_train_flatten/255.0\n",
        "X_test = X_test_flatten/255.0"
      ],
      "execution_count": null,
      "outputs": []
    },
    {
      "cell_type": "code",
      "metadata": {
        "id": "nxsXwEmy-qhU",
        "colab_type": "code",
        "colab": {
          "base_uri": "https://localhost:8080/",
          "height": 36
        },
        "outputId": "e6f96b43-11cf-4ae7-eb8c-02a5cf17b1c9"
      },
      "source": [
        "X_test.shape"
      ],
      "execution_count": null,
      "outputs": [
        {
          "output_type": "execute_result",
          "data": {
            "text/plain": [
              "(10000, 3072)"
            ]
          },
          "metadata": {
            "tags": []
          },
          "execution_count": 33
        }
      ]
    },
    {
      "cell_type": "code",
      "metadata": {
        "id": "qNW2kG2bMD1q",
        "colab_type": "code",
        "colab": {
          "base_uri": "https://localhost:8080/",
          "height": 36
        },
        "outputId": "18b49924-da1b-45d9-93ab-cc16b423df0f"
      },
      "source": [
        "# one hot encode outputs\n",
        "y_train = np_utils.to_categorical(y_train)\n",
        "y_test = np_utils.to_categorical(y_test) \n",
        "number_classes = y_test.shape[1]\n",
        "number_classes"
      ],
      "execution_count": 3,
      "outputs": [
        {
          "output_type": "execute_result",
          "data": {
            "text/plain": [
              "10"
            ]
          },
          "metadata": {
            "tags": []
          },
          "execution_count": 3
        }
      ]
    },
    {
      "cell_type": "code",
      "metadata": {
        "id": "aRqDUXPOGfhm",
        "colab_type": "code",
        "colab": {
          "base_uri": "https://localhost:8080/",
          "height": 36
        },
        "outputId": "178610ef-5f5f-4fe5-acd9-a7fcb3be18a4"
      },
      "source": [
        "X_train.shape"
      ],
      "execution_count": null,
      "outputs": [
        {
          "output_type": "execute_result",
          "data": {
            "text/plain": [
              "(50000, 3072)"
            ]
          },
          "metadata": {
            "tags": []
          },
          "execution_count": 35
        }
      ]
    },
    {
      "cell_type": "code",
      "metadata": {
        "id": "86orU4dlI30X",
        "colab_type": "code",
        "colab": {
          "base_uri": "https://localhost:8080/",
          "height": 36
        },
        "outputId": "9ccd8713-3eb6-4c39-8c53-005e15b5d595"
      },
      "source": [
        "y_test.shape"
      ],
      "execution_count": null,
      "outputs": [
        {
          "output_type": "execute_result",
          "data": {
            "text/plain": [
              "(10000, 10)"
            ]
          },
          "metadata": {
            "tags": []
          },
          "execution_count": 36
        }
      ]
    },
    {
      "cell_type": "code",
      "metadata": {
        "id": "h3V_CCbOGj7B",
        "colab_type": "code",
        "colab": {}
      },
      "source": [
        "y_train = y_train"
      ],
      "execution_count": null,
      "outputs": []
    },
    {
      "cell_type": "code",
      "metadata": {
        "id": "Y5YcfY-kIDwI",
        "colab_type": "code",
        "colab": {
          "base_uri": "https://localhost:8080/",
          "height": 36
        },
        "outputId": "e2be86cd-5a35-48b4-de88-a2389088a3cb"
      },
      "source": [
        "y_train.shape"
      ],
      "execution_count": null,
      "outputs": [
        {
          "output_type": "execute_result",
          "data": {
            "text/plain": [
              "(50000, 10)"
            ]
          },
          "metadata": {
            "tags": []
          },
          "execution_count": 37
        }
      ]
    },
    {
      "cell_type": "markdown",
      "metadata": {
        "id": "xtJ8w6U7FiLL",
        "colab_type": "text"
      },
      "source": [
        "## Define the baseline model"
      ]
    },
    {
      "cell_type": "code",
      "metadata": {
        "id": "DfIYV49lELVv",
        "colab_type": "code",
        "colab": {}
      },
      "source": [
        "def model():\n",
        "  #create model\n",
        "  model = Sequential()\n",
        "  model.add(Dense(1060,activation='relu'))\n",
        "  model.add(Dense(900,activation='relu'))\n",
        "  model.add(Dense(830,activation='relu'))\n",
        "  model.add(Dense(780,activation='relu'))\n",
        "  model.add(Dense(780,activation='relu'))\n",
        "  model.add(Dense(512,activation='relu'))\n",
        "  model.add(Dropout(0.5))\n",
        "  model.add(Dense(512,activation='relu'))\n",
        "  model.add(Dense(512,activation='relu'))\n",
        "  model.add(Dropout(0.4))\n",
        "  model.add(Dense(512,activation='relu'))\n",
        "  model.add(Dense(256,activation='relu'))\n",
        "  model.add(Dense(128,activation='relu'))\n",
        "  model.add(Dense(number_classes,activation='softmax',kernel_initializer='normal'))\n",
        "\n",
        "  #compile model\n",
        "  model.compile(loss= 'categorical_crossentropy',optimizer = 'adam', metrics=['accuracy'])\n",
        "  return model"
      ],
      "execution_count": null,
      "outputs": []
    },
    {
      "cell_type": "code",
      "metadata": {
        "id": "25eFGYzRFVtj",
        "colab_type": "code",
        "colab": {
          "base_uri": "https://localhost:8080/",
          "height": 36
        },
        "outputId": "8600bee8-848e-4777-a852-2c3ebb492682"
      },
      "source": [
        "#build model\n",
        "model = model()\n",
        "\n",
        "# Fit the model\n",
        "model.fit(X_train,y_train,validation_data=(X_test,y_test),epochs= 100,batch_size= 128,shuffle=True,verbose=0)\n",
        "\n",
        "# evaluation of the model\n",
        "scores = model.evaluate(X_test,y_test,verbose=0)\n",
        "print(\"model Error: %.2f%%\" % (100-scores[1]*100))"
      ],
      "execution_count": null,
      "outputs": [
        {
          "output_type": "stream",
          "text": [
            "model Error: 54.39%\n"
          ],
          "name": "stdout"
        }
      ]
    },
    {
      "cell_type": "code",
      "metadata": {
        "id": "9BYBhxiKMiQq",
        "colab_type": "code",
        "colab": {
          "base_uri": "https://localhost:8080/",
          "height": 36
        },
        "outputId": "046eae31-bc10-4b35-ce07-141a79d126f6"
      },
      "source": [
        "scores = model.evaluate(X_train,y_train,verbose=0)\n",
        "print(\"model Error: %.2f%%\" % (100-scores[1]*100))"
      ],
      "execution_count": null,
      "outputs": [
        {
          "output_type": "stream",
          "text": [
            "model Error: 7.96%\n"
          ],
          "name": "stdout"
        }
      ]
    },
    {
      "cell_type": "markdown",
      "metadata": {
        "id": "qj8c1mzGbdxS",
        "colab_type": "text"
      },
      "source": [
        "## Define the CNN model"
      ]
    },
    {
      "cell_type": "code",
      "metadata": {
        "id": "rv6INV8xOG0E",
        "colab_type": "code",
        "colab": {}
      },
      "source": [
        "def cnn_model():\n",
        "  #create model\n",
        "  #conv -> maxpool -> conv -> conv -> maxpool -> conv -> maxpool -> conv -> conv -> maxpool -> dense -> dense -> softmax\n",
        "  cnn_model = Sequential()\n",
        "  cnn_model.add(Conv2D(filters=32,kernel_size=(3,3),strides= (1,1),padding='same',activation='relu',kernel_initializer='he_uniform'))\n",
        "  cnn_model.add(MaxPooling2D(pool_size=(2,2),strides=1,padding='valid'))\n",
        "  cnn_model.add(Conv2D(filters=128,kernel_size=(3,3),strides= (2,2),padding='same',activation='relu',kernel_initializer='he_uniform',kernel_regularizer=l2(0.01), bias_regularizer=l2(0.01)))\n",
        "  cnn_model.add(Conv2D(filters=64,kernel_size=(5,5),strides= (1,1),padding='valid',activation='relu',kernel_initializer='he_uniform'))\n",
        "  cnn_model.add(MaxPooling2D(pool_size=(2,2),strides=1,padding='valid'))\n",
        "  cnn_model.add(Dropout(0.2))\n",
        "  cnn_model.add(Conv2D(filters=64,kernel_size=(5,5),strides= (1,1),padding='same',activation='relu',kernel_initializer='he_uniform'))\n",
        "  cnn_model.add(MaxPooling2D(pool_size=(4,4),strides=1,padding='valid'))\n",
        "  cnn_model.add(Conv2D(filters=64,kernel_size=(3,3),strides= (1,1),padding='same',activation='relu',kernel_initializer='he_uniform'))\n",
        "  cnn_model.add(Conv2D(filters=64,kernel_size=(5,5),strides= (2,2),padding='same',activation='relu',kernel_initializer='he_uniform'))\n",
        "  cnn_model.add(MaxPooling2D(pool_size=(2,2),strides=2,padding='valid'))\n",
        "  cnn_model.add(Dropout(0.25))\n",
        "  cnn_model.add(Flatten())\n",
        "  cnn_model.add(Dense(256,activation='relu',kernel_initializer='GlorotNormal',kernel_regularizer=l2(0.01), bias_regularizer=l2(0.01)))\n",
        "  cnn_model.add(Dense(128,activation='relu',kernel_initializer='GlorotNormal'))\n",
        "  cnn_model.add(Dense(number_classes,activation='softmax'))\n",
        "\n",
        "  #compile model\n",
        "  cnn_model.compile(loss= 'categorical_crossentropy',optimizer = 'adam', metrics=['accuracy'])\n",
        "\n",
        "  return cnn_model"
      ],
      "execution_count": null,
      "outputs": []
    },
    {
      "cell_type": "code",
      "metadata": {
        "id": "1hmkqVAThxOE",
        "colab_type": "code",
        "colab": {}
      },
      "source": [
        "#prepare data (convert type and normalized)\n",
        "X_train_cnn = X_train.astype('float32')\n",
        "X_test_cnn = X_test.astype('float32')\n",
        "\n",
        "\n",
        "# Standardize data to have feature values between 0 and 1.\n",
        "X_train_new = X_train_cnn/255.0\n",
        "X_test_new = X_test_cnn/255.0"
      ],
      "execution_count": 4,
      "outputs": []
    },
    {
      "cell_type": "code",
      "metadata": {
        "id": "XDczjel_iKNO",
        "colab_type": "code",
        "colab": {
          "base_uri": "https://localhost:8080/",
          "height": 36
        },
        "outputId": "137209c0-068c-4bec-cf6a-118a2253c2e6"
      },
      "source": [
        "X_train_new.shape"
      ],
      "execution_count": null,
      "outputs": [
        {
          "output_type": "execute_result",
          "data": {
            "text/plain": [
              "(50000, 32, 32, 3)"
            ]
          },
          "metadata": {
            "tags": []
          },
          "execution_count": 15
        }
      ]
    },
    {
      "cell_type": "code",
      "metadata": {
        "id": "kNpDvxJxiWBz",
        "colab_type": "code",
        "colab": {
          "base_uri": "https://localhost:8080/",
          "height": 36
        },
        "outputId": "0b51a2b3-8b1a-4118-b05f-6955b24446e0"
      },
      "source": [
        "X_test_cnn.shape"
      ],
      "execution_count": null,
      "outputs": [
        {
          "output_type": "execute_result",
          "data": {
            "text/plain": [
              "(10000, 32, 32, 3)"
            ]
          },
          "metadata": {
            "tags": []
          },
          "execution_count": 16
        }
      ]
    },
    {
      "cell_type": "code",
      "metadata": {
        "id": "I22G6MOeibMI",
        "colab_type": "code",
        "colab": {
          "base_uri": "https://localhost:8080/",
          "height": 36
        },
        "outputId": "23791d0b-5148-4ea2-9649-5545511ff061"
      },
      "source": [
        "y_train.shape"
      ],
      "execution_count": null,
      "outputs": [
        {
          "output_type": "execute_result",
          "data": {
            "text/plain": [
              "(50000, 1)"
            ]
          },
          "metadata": {
            "tags": []
          },
          "execution_count": 17
        }
      ]
    },
    {
      "cell_type": "code",
      "metadata": {
        "id": "PFiaC_u2ifKs",
        "colab_type": "code",
        "colab": {
          "base_uri": "https://localhost:8080/",
          "height": 36
        },
        "outputId": "430b5df5-0a5d-4409-82ad-38258e60fe4c"
      },
      "source": [
        "y_test.shape"
      ],
      "execution_count": null,
      "outputs": [
        {
          "output_type": "execute_result",
          "data": {
            "text/plain": [
              "(10000, 1)"
            ]
          },
          "metadata": {
            "tags": []
          },
          "execution_count": 18
        }
      ]
    },
    {
      "cell_type": "code",
      "metadata": {
        "id": "RQSIFdLCgUXL",
        "colab_type": "code",
        "colab": {
          "base_uri": "https://localhost:8080/",
          "height": 36
        },
        "outputId": "324bb0e1-652c-4d4d-e067-aeacd9ad8202"
      },
      "source": [
        "#build model\n",
        "CNN_model = cnn_model()\n",
        "\n",
        "# Fit the model\n",
        "CNN_model.fit(X_train_new,y_train,validation_data=(X_test_new,y_test),epochs= 100,batch_size= 128,shuffle=True,verbose=0)\n",
        "\n",
        "# evaluation of the model\n",
        "scores = CNN_model.evaluate(X_test_new,y_test,verbose=0)\n",
        "print(\"model Error: %.2f%%\" % (100-scores[1]*100))"
      ],
      "execution_count": null,
      "outputs": [
        {
          "output_type": "stream",
          "text": [
            "model Error: 22.35%\n"
          ],
          "name": "stdout"
        }
      ]
    },
    {
      "cell_type": "code",
      "metadata": {
        "id": "_j2nNcplgimG",
        "colab_type": "code",
        "colab": {
          "base_uri": "https://localhost:8080/",
          "height": 36
        },
        "outputId": "de8766e9-ab73-44b2-d3a0-4887cfd4fbf5"
      },
      "source": [
        "print(scores[1]*100)"
      ],
      "execution_count": null,
      "outputs": [
        {
          "output_type": "stream",
          "text": [
            "77.64999866485596\n"
          ],
          "name": "stdout"
        }
      ]
    },
    {
      "cell_type": "code",
      "metadata": {
        "id": "3P4KljnFkCzx",
        "colab_type": "code",
        "colab": {
          "base_uri": "https://localhost:8080/",
          "height": 36
        },
        "outputId": "ee11ae01-67c7-4fa2-d819-26efc6ad71bd"
      },
      "source": [
        "scores_new = CNN_model.evaluate(X_train_new,y_train,verbose=0)\n",
        "print(\"model Error: %.2f%%\" % (100-scores_new[1]*100))"
      ],
      "execution_count": null,
      "outputs": [
        {
          "output_type": "stream",
          "text": [
            "model Error: 3.97%\n"
          ],
          "name": "stdout"
        }
      ]
    },
    {
      "cell_type": "code",
      "metadata": {
        "id": "ORET8cC5kIL-",
        "colab_type": "code",
        "colab": {
          "base_uri": "https://localhost:8080/",
          "height": 783
        },
        "outputId": "bfc32d2d-a3b2-4359-f76f-0abc929669bc"
      },
      "source": [
        "print(CNN_model.summary())"
      ],
      "execution_count": null,
      "outputs": [
        {
          "output_type": "stream",
          "text": [
            "Model: \"sequential_1\"\n",
            "_________________________________________________________________\n",
            "Layer (type)                 Output Shape              Param #   \n",
            "=================================================================\n",
            "conv2d_6 (Conv2D)            (None, 32, 32, 32)        896       \n",
            "_________________________________________________________________\n",
            "max_pooling2d_4 (MaxPooling2 (None, 31, 31, 32)        0         \n",
            "_________________________________________________________________\n",
            "conv2d_7 (Conv2D)            (None, 16, 16, 128)       36992     \n",
            "_________________________________________________________________\n",
            "conv2d_8 (Conv2D)            (None, 12, 12, 64)        204864    \n",
            "_________________________________________________________________\n",
            "max_pooling2d_5 (MaxPooling2 (None, 11, 11, 64)        0         \n",
            "_________________________________________________________________\n",
            "dropout_2 (Dropout)          (None, 11, 11, 64)        0         \n",
            "_________________________________________________________________\n",
            "conv2d_9 (Conv2D)            (None, 11, 11, 64)        102464    \n",
            "_________________________________________________________________\n",
            "max_pooling2d_6 (MaxPooling2 (None, 8, 8, 64)          0         \n",
            "_________________________________________________________________\n",
            "conv2d_10 (Conv2D)           (None, 8, 8, 64)          36928     \n",
            "_________________________________________________________________\n",
            "conv2d_11 (Conv2D)           (None, 4, 4, 64)          102464    \n",
            "_________________________________________________________________\n",
            "max_pooling2d_7 (MaxPooling2 (None, 2, 2, 64)          0         \n",
            "_________________________________________________________________\n",
            "dropout_3 (Dropout)          (None, 2, 2, 64)          0         \n",
            "_________________________________________________________________\n",
            "flatten_1 (Flatten)          (None, 256)               0         \n",
            "_________________________________________________________________\n",
            "dense_2 (Dense)              (None, 256)               65792     \n",
            "_________________________________________________________________\n",
            "dense_3 (Dense)              (None, 128)               32896     \n",
            "_________________________________________________________________\n",
            "dense_4 (Dense)              (None, 10)                1290      \n",
            "=================================================================\n",
            "Total params: 584,586\n",
            "Trainable params: 584,586\n",
            "Non-trainable params: 0\n",
            "_________________________________________________________________\n",
            "None\n"
          ],
          "name": "stdout"
        }
      ]
    },
    {
      "cell_type": "markdown",
      "metadata": {
        "id": "bS-QXvA-ikhx",
        "colab_type": "text"
      },
      "source": [
        "## Transfer learning"
      ]
    },
    {
      "cell_type": "markdown",
      "metadata": {
        "id": "ouNIvLnwxc92",
        "colab_type": "text"
      },
      "source": [
        "Pre-Trained Model as Feature Extractor in Model"
      ]
    },
    {
      "cell_type": "code",
      "metadata": {
        "id": "O0hMncJ_i1J8",
        "colab_type": "code",
        "colab": {
          "base_uri": "https://localhost:8080/",
          "height": 54
        },
        "outputId": "9a540be7-3424-47af-e82d-4cb70f3915f1"
      },
      "source": [
        "# load VGG model\n",
        "vgg_model_1 = VGG16(input_shape=(32,32,3),include_top= False)"
      ],
      "execution_count": 5,
      "outputs": [
        {
          "output_type": "stream",
          "text": [
            "Downloading data from https://storage.googleapis.com/tensorflow/keras-applications/vgg16/vgg16_weights_tf_dim_ordering_tf_kernels_notop.h5\n",
            "58892288/58889256 [==============================] - 1s 0us/step\n"
          ],
          "name": "stdout"
        }
      ]
    },
    {
      "cell_type": "code",
      "metadata": {
        "id": "h-AQ_YqikoxQ",
        "colab_type": "code",
        "colab": {
          "base_uri": "https://localhost:8080/",
          "height": 36
        },
        "outputId": "ac4a645a-bc8d-4d55-fe0c-5c248fec468b"
      },
      "source": [
        "#reshape one of the data for VGG model\n",
        "X_vgg16_1 = X_train_new[0].reshape((1,X_train_new[0].shape[0], X_train_new[0].shape[1], X_train_new[0].shape[2] ))\n",
        "X_vgg16_1.shape"
      ],
      "execution_count": 6,
      "outputs": [
        {
          "output_type": "execute_result",
          "data": {
            "text/plain": [
              "(1, 32, 32, 3)"
            ]
          },
          "metadata": {
            "tags": []
          },
          "execution_count": 6
        }
      ]
    },
    {
      "cell_type": "code",
      "metadata": {
        "id": "yxZHCQcsxoCP",
        "colab_type": "code",
        "colab": {
          "base_uri": "https://localhost:8080/",
          "height": 1000
        },
        "outputId": "a6e9846a-7b35-4014-be60-5357074d12a4"
      },
      "source": [
        "# add new classifier layers\n",
        " \n",
        "flatten_layer = Flatten()(vgg_model_1.layers[-1].output)\n",
        "full_layer_1 = Dense(2048,activation='relu')(flatten_layer)\n",
        "full_layer_2 = Dense(1600,activation='relu')(full_layer_1)\n",
        "output = Dense(10,activation='softmax')(full_layer_2)\n",
        "\n",
        "#define new model\n",
        "vgg_model_1_new = Model(inputs = vgg_model_1.inputs, outputs = output)\n",
        "\n",
        "#model summary\n",
        "vgg_model_1_new.summary()"
      ],
      "execution_count": 8,
      "outputs": [
        {
          "output_type": "stream",
          "text": [
            "Model: \"functional_1\"\n",
            "_________________________________________________________________\n",
            "Layer (type)                 Output Shape              Param #   \n",
            "=================================================================\n",
            "input_1 (InputLayer)         [(None, 32, 32, 3)]       0         \n",
            "_________________________________________________________________\n",
            "block1_conv1 (Conv2D)        (None, 32, 32, 64)        1792      \n",
            "_________________________________________________________________\n",
            "block1_conv2 (Conv2D)        (None, 32, 32, 64)        36928     \n",
            "_________________________________________________________________\n",
            "block1_pool (MaxPooling2D)   (None, 16, 16, 64)        0         \n",
            "_________________________________________________________________\n",
            "block2_conv1 (Conv2D)        (None, 16, 16, 128)       73856     \n",
            "_________________________________________________________________\n",
            "block2_conv2 (Conv2D)        (None, 16, 16, 128)       147584    \n",
            "_________________________________________________________________\n",
            "block2_pool (MaxPooling2D)   (None, 8, 8, 128)         0         \n",
            "_________________________________________________________________\n",
            "block3_conv1 (Conv2D)        (None, 8, 8, 256)         295168    \n",
            "_________________________________________________________________\n",
            "block3_conv2 (Conv2D)        (None, 8, 8, 256)         590080    \n",
            "_________________________________________________________________\n",
            "block3_conv3 (Conv2D)        (None, 8, 8, 256)         590080    \n",
            "_________________________________________________________________\n",
            "block3_pool (MaxPooling2D)   (None, 4, 4, 256)         0         \n",
            "_________________________________________________________________\n",
            "block4_conv1 (Conv2D)        (None, 4, 4, 512)         1180160   \n",
            "_________________________________________________________________\n",
            "block4_conv2 (Conv2D)        (None, 4, 4, 512)         2359808   \n",
            "_________________________________________________________________\n",
            "block4_conv3 (Conv2D)        (None, 4, 4, 512)         2359808   \n",
            "_________________________________________________________________\n",
            "block4_pool (MaxPooling2D)   (None, 2, 2, 512)         0         \n",
            "_________________________________________________________________\n",
            "block5_conv1 (Conv2D)        (None, 2, 2, 512)         2359808   \n",
            "_________________________________________________________________\n",
            "block5_conv2 (Conv2D)        (None, 2, 2, 512)         2359808   \n",
            "_________________________________________________________________\n",
            "block5_conv3 (Conv2D)        (None, 2, 2, 512)         2359808   \n",
            "_________________________________________________________________\n",
            "block5_pool (MaxPooling2D)   (None, 1, 1, 512)         0         \n",
            "_________________________________________________________________\n",
            "flatten (Flatten)            (None, 512)               0         \n",
            "_________________________________________________________________\n",
            "dense (Dense)                (None, 2048)              1050624   \n",
            "_________________________________________________________________\n",
            "dense_1 (Dense)              (None, 1600)              3278400   \n",
            "_________________________________________________________________\n",
            "dense_2 (Dense)              (None, 10)                16010     \n",
            "=================================================================\n",
            "Total params: 19,059,722\n",
            "Trainable params: 19,059,722\n",
            "Non-trainable params: 0\n",
            "_________________________________________________________________\n"
          ],
          "name": "stdout"
        }
      ]
    },
    {
      "cell_type": "code",
      "metadata": {
        "id": "b2v8LWMcjf7t",
        "colab_type": "code",
        "colab": {
          "base_uri": "https://localhost:8080/",
          "height": 73
        },
        "outputId": "3758d18f-eab6-49a6-a0dd-9e668edb76a7"
      },
      "source": [
        "features = vgg_model_1_new.predict(X_vgg16_1)\n",
        "print(features.shape)\n",
        "print(features)"
      ],
      "execution_count": 12,
      "outputs": [
        {
          "output_type": "stream",
          "text": [
            "(1, 10)\n",
            "[[0.0767149  0.07703622 0.18634455 0.08396413 0.09703261 0.13871315\n",
            "  0.0865022  0.07681928 0.07579745 0.10107552]]\n"
          ],
          "name": "stdout"
        }
      ]
    }
  ]
}